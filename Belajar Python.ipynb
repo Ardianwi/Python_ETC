{
 "cells": [
  {
   "cell_type": "code",
   "execution_count": null,
   "id": "5207df46",
   "metadata": {},
   "outputs": [],
   "source": [
    "ngantuk = 1"
   ]
  },
  {
   "cell_type": "code",
   "execution_count": null,
   "id": "301151a3",
   "metadata": {},
   "outputs": [],
   "source": [
    "ngantuk = tidur"
   ]
  },
  {
   "cell_type": "code",
   "execution_count": null,
   "id": "02cb6a08",
   "metadata": {},
   "outputs": [],
   "source": [
    "ngantuk"
   ]
  },
  {
   "cell_type": "code",
   "execution_count": null,
   "id": "ee28885d",
   "metadata": {},
   "outputs": [],
   "source": [
    "ngantuk = 'tidur'"
   ]
  },
  {
   "cell_type": "code",
   "execution_count": null,
   "id": "2c475cc4",
   "metadata": {},
   "outputs": [],
   "source": [
    "ngantuk"
   ]
  },
  {
   "cell_type": "code",
   "execution_count": null,
   "id": "f67eb4f5",
   "metadata": {},
   "outputs": [],
   "source": [
    "aku ngantuk"
   ]
  },
  {
   "cell_type": "code",
   "execution_count": null,
   "id": "8f56b2dd",
   "metadata": {},
   "outputs": [],
   "source": [
    "'aku' ngantuk"
   ]
  },
  {
   "cell_type": "code",
   "execution_count": null,
   "id": "a51d0d43",
   "metadata": {},
   "outputs": [],
   "source": [
    "aku [ngantuk]"
   ]
  },
  {
   "cell_type": "code",
   "execution_count": null,
   "id": "f84fce4f",
   "metadata": {},
   "outputs": [],
   "source": [
    "'aku' [ngantuk]"
   ]
  },
  {
   "cell_type": "code",
   "execution_count": null,
   "id": "954c3a89",
   "metadata": {},
   "outputs": [],
   "source": [
    "ngantuk\n"
   ]
  },
  {
   "cell_type": "code",
   "execution_count": null,
   "id": "37015cf4",
   "metadata": {},
   "outputs": [],
   "source": [
    "'aku' {ngantuk}"
   ]
  },
  {
   "cell_type": "code",
   "execution_count": null,
   "id": "86e76d4b",
   "metadata": {},
   "outputs": [],
   "source": [
    "'2' + '3'"
   ]
  },
  {
   "cell_type": "code",
   "execution_count": null,
   "id": "715e0771",
   "metadata": {},
   "outputs": [],
   "source": [
    "2 + 3"
   ]
  },
  {
   "cell_type": "code",
   "execution_count": null,
   "id": "5f37ebda",
   "metadata": {},
   "outputs": [],
   "source": [
    "x = 'hello world'"
   ]
  },
  {
   "cell_type": "code",
   "execution_count": null,
   "id": "0f7ee357",
   "metadata": {},
   "outputs": [],
   "source": [
    "x [type]"
   ]
  },
  {
   "cell_type": "code",
   "execution_count": null,
   "id": "9ef639d7",
   "metadata": {},
   "outputs": [],
   "source": [
    "x 'hello world'"
   ]
  },
  {
   "cell_type": "code",
   "execution_count": null,
   "id": "503d0fa2",
   "metadata": {},
   "outputs": [],
   "source": [
    "x = 'hello world'"
   ]
  },
  {
   "cell_type": "code",
   "execution_count": null,
   "id": "317f49be",
   "metadata": {},
   "outputs": [],
   "source": [
    "x.upper ()\n"
   ]
  },
  {
   "cell_type": "code",
   "execution_count": null,
   "id": "2f7496ca",
   "metadata": {},
   "outputs": [],
   "source": [
    "x = 'Hi this is a string'"
   ]
  },
  {
   "cell_type": "code",
   "execution_count": null,
   "id": "dcfbacb2",
   "metadata": {},
   "outputs": [],
   "source": [
    "x.split('i')"
   ]
  },
  {
   "cell_type": "code",
   "execution_count": null,
   "id": "f17d2c9d",
   "metadata": {},
   "outputs": [],
   "source": [
    "s='Sammy'[2:]"
   ]
  },
  {
   "cell_type": "code",
   "execution_count": null,
   "id": "d22d9de0",
   "metadata": {},
   "outputs": [],
   "source": [
    "result = 1000/77"
   ]
  },
  {
   "cell_type": "code",
   "execution_count": null,
   "id": "023ca236",
   "metadata": {},
   "outputs": [],
   "source": [
    "result"
   ]
  },
  {
   "cell_type": "code",
   "execution_count": null,
   "id": "c3c8cb24",
   "metadata": {},
   "outputs": [],
   "source": [
    "print ('this is string {}'.format('INSERTED'))"
   ]
  },
  {
   "cell_type": "code",
   "execution_count": null,
   "id": "8021f83e",
   "metadata": {},
   "outputs": [],
   "source": [
    "print ('this is string {}'.format('ARDIAN'))"
   ]
  },
  {
   "cell_type": "code",
   "execution_count": null,
   "id": "801529cb",
   "metadata": {},
   "outputs": [],
   "source": [
    "a = ('the')\n",
    "a = UPPER"
   ]
  },
  {
   "cell_type": "code",
   "execution_count": null,
   "id": "3bd80308",
   "metadata": {},
   "outputs": [],
   "source": [
    "print ('I like {}'.format('apples'))"
   ]
  },
  {
   "cell_type": "code",
   "execution_count": null,
   "id": "737d74b6",
   "metadata": {},
   "outputs": [],
   "source": [
    "name = \"ardian\""
   ]
  },
  {
   "cell_type": "code",
   "execution_count": null,
   "id": "8016d7b9",
   "metadata": {},
   "outputs": [],
   "source": [
    "age = 30"
   ]
  },
  {
   "cell_type": "code",
   "execution_count": null,
   "id": "04e07975",
   "metadata": {},
   "outputs": [],
   "source": [
    "hobi = \"makan\""
   ]
  },
  {
   "cell_type": "code",
   "execution_count": null,
   "id": "034bffc6",
   "metadata": {},
   "outputs": [],
   "source": [
    "Cita-Cita = \"menjadi Doktrer\""
   ]
  },
  {
   "cell_type": "code",
   "execution_count": null,
   "id": "49e1ddab",
   "metadata": {},
   "outputs": [],
   "source": [
    "Cita_Cita = \"menjadi Dokter\"\n"
   ]
  },
  {
   "cell_type": "code",
   "execution_count": null,
   "id": "e17d1418",
   "metadata": {},
   "outputs": [],
   "source": [
    "print (f'{name} is {age} years old hobi: {hobi} cita-cita: {Cita_Cita}')"
   ]
  },
  {
   "cell_type": "code",
   "execution_count": null,
   "id": "155177c1",
   "metadata": {},
   "outputs": [],
   "source": [
    "nama = \"ardian\""
   ]
  },
  {
   "cell_type": "code",
   "execution_count": null,
   "id": "026e0f93",
   "metadata": {},
   "outputs": [],
   "source": [
    "ngantuk = \"biar sukses ya belajar\""
   ]
  },
  {
   "cell_type": "code",
   "execution_count": null,
   "id": "5ad2b809",
   "metadata": {},
   "outputs": [],
   "source": [
    "berapa_lama = \"3 jam\""
   ]
  },
  {
   "cell_type": "code",
   "execution_count": null,
   "id": "2cb2a4ae",
   "metadata": {},
   "outputs": [],
   "source": [
    "print (f' nama saya {nama} Ngantuk Banget {ngantuk} belajarnya berapa lama {berapa_lama}')"
   ]
  },
  {
   "cell_type": "code",
   "execution_count": null,
   "id": "9cbe3722",
   "metadata": {},
   "outputs": [],
   "source": [
    "\"im going to inject %s here. \"%'something')"
   ]
  },
  {
   "cell_type": "code",
   "execution_count": null,
   "id": "b2ec1d31",
   "metadata": {},
   "outputs": [],
   "source": [
    "(\"i'm going to inject %s here.\" %'something')"
   ]
  },
  {
   "cell_type": "code",
   "execution_count": null,
   "id": "48a8b117",
   "metadata": {},
   "outputs": [],
   "source": [
    "(\"i'm going to inject %s something.\" %'here')"
   ]
  },
  {
   "cell_type": "code",
   "execution_count": null,
   "id": "94b8f390",
   "metadata": {},
   "outputs": [],
   "source": [
    "print (\"I like %s\"%'apples')\n"
   ]
  },
  {
   "cell_type": "code",
   "execution_count": null,
   "id": "843266b0",
   "metadata": {},
   "outputs": [],
   "source": [
    "name = \"apples\""
   ]
  },
  {
   "cell_type": "code",
   "execution_count": null,
   "id": "5b619590",
   "metadata": {},
   "outputs": [],
   "source": [
    "print ('I like {}'.format (name))"
   ]
  },
  {
   "cell_type": "code",
   "execution_count": null,
   "id": "11f1ad39",
   "metadata": {},
   "outputs": [],
   "source": [
    "print (\"I like %s\"%'apples \\n')\n",
    "name = \"apples\"\n",
    "print ('I like {}'.format (name))               "
   ]
  },
  {
   "cell_type": "code",
   "execution_count": null,
   "id": "ba65d1a6",
   "metadata": {},
   "outputs": [],
   "source": [
    "print (\"I like %s\"%'apples')\n",
    "name = \"apples\"\n",
    "print ('I like {}'.format (name))               "
   ]
  },
  {
   "cell_type": "code",
   "execution_count": null,
   "id": "1bb5ddcc",
   "metadata": {},
   "outputs": [],
   "source": [
    "\\n print (\"I like %s\"%'apples')\\n\n",
    "name = \"apples\"\n",
    "print ('I like {}'.format (name))\\n             "
   ]
  },
  {
   "cell_type": "code",
   "execution_count": null,
   "id": "fb3a7329",
   "metadata": {},
   "outputs": [],
   "source": [
    "print (\"I like %s\"%'apples')\\n\n",
    "print ('I like {}'.format('apples')            "
   ]
  },
  {
   "cell_type": "code",
   "execution_count": null,
   "id": "92449a62",
   "metadata": {},
   "outputs": [],
   "source": [
    "print (\"I like %s\"%'apples')\n",
    "print ('I like {}'.format('apples'))            "
   ]
  },
  {
   "cell_type": "code",
   "execution_count": null,
   "id": "c0c71daf",
   "metadata": {},
   "outputs": [],
   "source": [
    "print (\"I like %s\"%'apples \\n')\n",
    "print ('I like {}'.format('apples \\n'))"
   ]
  },
  {
   "cell_type": "code",
   "execution_count": null,
   "id": "67f4eb6a",
   "metadata": {},
   "outputs": [],
   "source": [
    "print (\"aku suka %s\"%'apel\\n')print ('aku suka {}'.format('apel\\n'))"
   ]
  },
  {
   "cell_type": "code",
   "execution_count": null,
   "id": "23a4004b",
   "metadata": {},
   "outputs": [],
   "source": [
    "print (\"I like {}\".format(\"apples!\"))"
   ]
  },
  {
   "cell_type": "code",
   "execution_count": null,
   "id": "b2adf0fe",
   "metadata": {},
   "outputs": [],
   "source": [
    "\"I like {}\".format(\"apples\")"
   ]
  },
  {
   "cell_type": "code",
   "execution_count": null,
   "id": "dcc9c1c6",
   "metadata": {},
   "outputs": [],
   "source": [
    "I like %s\"%'(\"apples\")"
   ]
  },
  {
   "cell_type": "code",
   "execution_count": null,
   "id": "4f294896",
   "metadata": {},
   "outputs": [],
   "source": [
    "(\"I like %s\"%'apples')"
   ]
  },
  {
   "cell_type": "code",
   "execution_count": null,
   "id": "f8de0cec",
   "metadata": {},
   "outputs": [],
   "source": [
    "\"I like %s\"%('apples')\n",
    "'I like {}'.format('apples')"
   ]
  },
  {
   "cell_type": "code",
   "execution_count": null,
   "id": "438f3d05",
   "metadata": {},
   "outputs": [],
   "source": [
    "'I like %s'%'apples'\n",
    "'I like {}'.format('apples')"
   ]
  },
  {
   "cell_type": "code",
   "execution_count": null,
   "id": "a5ad3b2f",
   "metadata": {},
   "outputs": [],
   "source": [
    "'I like %s'%'apples'\n",
    "'I like {}'.format('apples')"
   ]
  },
  {
   "cell_type": "code",
   "execution_count": null,
   "id": "a68ef10a",
   "metadata": {},
   "outputs": [],
   "source": [
    "'I like {}'.format('apples')"
   ]
  },
  {
   "cell_type": "code",
   "execution_count": null,
   "id": "bf7af69b",
   "metadata": {},
   "outputs": [],
   "source": [
    "\"{} {}:\".format('Python','rules')"
   ]
  },
  {
   "cell_type": "code",
   "execution_count": null,
   "id": "8162cc62",
   "metadata": {},
   "outputs": [],
   "source": [
    "a = 0"
   ]
  },
  {
   "cell_type": "code",
   "execution_count": null,
   "id": "edd5cbf1",
   "metadata": {},
   "outputs": [],
   "source": [
    "a [type]"
   ]
  },
  {
   "cell_type": "code",
   "execution_count": null,
   "id": "716c4720",
   "metadata": {},
   "outputs": [],
   "source": [
    "a = [type]"
   ]
  },
  {
   "cell_type": "code",
   "execution_count": null,
   "id": "2ad009b7",
   "metadata": {},
   "outputs": [],
   "source": [
    "a = 11"
   ]
  },
  {
   "cell_type": "code",
   "execution_count": null,
   "id": "b43f2510",
   "metadata": {},
   "outputs": [],
   "source": [
    "a = [type]"
   ]
  },
  {
   "cell_type": "code",
   "execution_count": null,
   "id": "c62799e0",
   "metadata": {},
   "outputs": [],
   "source": [
    "my_dict = {'key1':123,'key2':[12,23,33],'key3':['item0','item1','item2']}"
   ]
  },
  {
   "cell_type": "code",
   "execution_count": null,
   "id": "acd51929",
   "metadata": {},
   "outputs": [],
   "source": [
    "my_dict['key3']"
   ]
  },
  {
   "cell_type": "code",
   "execution_count": null,
   "id": "00268225",
   "metadata": {},
   "outputs": [],
   "source": [
    "d={'k1':[1,2,3]}"
   ]
  },
  {
   "cell_type": "code",
   "execution_count": null,
   "id": "9967bb9e",
   "metadata": {},
   "outputs": [],
   "source": [
    "d['k1'][1]"
   ]
  },
  {
   "cell_type": "code",
   "execution_count": null,
   "id": "ce87146e",
   "metadata": {},
   "outputs": [],
   "source": [
    "set('Mississippi')"
   ]
  },
  {
   "cell_type": "code",
   "execution_count": null,
   "id": "ed528abc",
   "metadata": {},
   "outputs": [],
   "source": [
    "True"
   ]
  },
  {
   "cell_type": "code",
   "execution_count": null,
   "id": "f4e0a1f2",
   "metadata": {},
   "outputs": [],
   "source": [
    "type(flase)"
   ]
  },
  {
   "cell_type": "code",
   "execution_count": null,
   "id": "7404b8ef",
   "metadata": {},
   "outputs": [],
   "source": [
    "type(false)"
   ]
  },
  {
   "cell_type": "code",
   "execution_count": null,
   "id": "d4724e35",
   "metadata": {},
   "outputs": [],
   "source": [
    "type (False\n",
    "     )"
   ]
  },
  {
   "cell_type": "code",
   "execution_count": null,
   "id": "3a135d27",
   "metadata": {},
   "outputs": [],
   "source": [
    "type (True)"
   ]
  },
  {
   "cell_type": "code",
   "execution_count": null,
   "id": "5624fbfd",
   "metadata": {},
   "outputs": [],
   "source": [
    "a = 1"
   ]
  },
  {
   "cell_type": "code",
   "execution_count": null,
   "id": "7695cb5d",
   "metadata": {},
   "outputs": [],
   "source": [
    "type (a)"
   ]
  },
  {
   "cell_type": "code",
   "execution_count": null,
   "id": "f2df1f83",
   "metadata": {},
   "outputs": [],
   "source": [
    "a = \"makan\""
   ]
  },
  {
   "cell_type": "code",
   "execution_count": null,
   "id": "fb875ec2",
   "metadata": {},
   "outputs": [],
   "source": [
    "type (a)"
   ]
  },
  {
   "cell_type": "code",
   "execution_count": null,
   "id": "2286ad41",
   "metadata": {},
   "outputs": [],
   "source": [
    "x = open('myfile.txt', 'w')\n",
    "x.write('This is my file')\n",
    "x.close()"
   ]
  },
  {
   "cell_type": "code",
   "execution_count": null,
   "id": "113494dc",
   "metadata": {},
   "outputs": [],
   "source": [
    "pwd"
   ]
  },
  {
   "cell_type": "code",
   "execution_count": null,
   "id": "960caa09",
   "metadata": {},
   "outputs": [],
   "source": [
    "x = open('test.txt')\n",
    "x.write('Hello World')\n",
    "x.close()"
   ]
  },
  {
   "cell_type": "code",
   "execution_count": null,
   "id": "28eb4ce1",
   "metadata": {},
   "outputs": [],
   "source": [
    "%%writefile test.txt\n",
    "Hello World"
   ]
  },
  {
   "cell_type": "code",
   "execution_count": null,
   "id": "b18cbd68",
   "metadata": {},
   "outputs": [],
   "source": [
    "%%writefile test.txt\n",
    "Hello World\n",
    "close()"
   ]
  },
  {
   "cell_type": "code",
   "execution_count": null,
   "id": "9ec69638",
   "metadata": {},
   "outputs": [],
   "source": [
    "open('test.txt')"
   ]
  },
  {
   "cell_type": "code",
   "execution_count": null,
   "id": "da12840a",
   "metadata": {},
   "outputs": [],
   "source": [
    "2**38\n"
   ]
  },
  {
   "cell_type": "code",
   "execution_count": null,
   "id": "aa4e46c2",
   "metadata": {},
   "outputs": [],
   "source": [
    "19+54+122+9+75+174+100+62+29+46+138+23+17+143+100+24+45+28+3+41+45+15+1"
   ]
  },
  {
   "cell_type": "code",
   "execution_count": null,
   "id": "ffb7a04d",
   "metadata": {},
   "outputs": [],
   "source": [
    "a = 1313"
   ]
  },
  {
   "cell_type": "code",
   "execution_count": null,
   "id": "e1a743ac",
   "metadata": {},
   "outputs": [],
   "source": [
    "b = a / 60"
   ]
  },
  {
   "cell_type": "code",
   "execution_count": null,
   "id": "bcf8b6a3",
   "metadata": {},
   "outputs": [],
   "source": [
    "b"
   ]
  },
  {
   "cell_type": "code",
   "execution_count": null,
   "id": "d16bad3a",
   "metadata": {},
   "outputs": [],
   "source": [
    "9+75+174+100+62+29+46+138+23+17+143+100+24+45+28+3+41+45+15+1\n"
   ]
  },
  {
   "cell_type": "code",
   "execution_count": null,
   "id": "84921afb",
   "metadata": {},
   "outputs": [],
   "source": [
    "1118 / 60"
   ]
  },
  {
   "cell_type": "code",
   "execution_count": null,
   "id": "5eff8f7a",
   "metadata": {},
   "outputs": [],
   "source": [
    "2 <= 3 >= 1"
   ]
  },
  {
   "cell_type": "code",
   "execution_count": null,
   "id": "4dbc1d7e",
   "metadata": {},
   "outputs": [],
   "source": [
    "7 % 4"
   ]
  },
  {
   "cell_type": "code",
   "execution_count": null,
   "id": "03a96dcf",
   "metadata": {},
   "outputs": [],
   "source": [
    "7 % 3"
   ]
  },
  {
   "cell_type": "code",
   "execution_count": null,
   "id": "f15de7be",
   "metadata": {},
   "outputs": [],
   "source": [
    "7 % 2"
   ]
  },
  {
   "cell_type": "code",
   "execution_count": null,
   "id": "3a052c72",
   "metadata": {},
   "outputs": [],
   "source": [
    "7 % 1"
   ]
  },
  {
   "cell_type": "code",
   "execution_count": null,
   "id": "fcdf6010",
   "metadata": {},
   "outputs": [],
   "source": [
    "7 % 0"
   ]
  },
  {
   "cell_type": "code",
   "execution_count": null,
   "id": "356d8386",
   "metadata": {},
   "outputs": [],
   "source": [
    "last_letter = name [1:]"
   ]
  },
  {
   "cell_type": "code",
   "execution_count": null,
   "id": "1dffc5b0",
   "metadata": {},
   "outputs": [],
   "source": [
    "last_letters = name[1:]"
   ]
  },
  {
   "cell_type": "code",
   "execution_count": null,
   "id": "f6ba8b74",
   "metadata": {},
   "outputs": [],
   "source": [
    "name = \"sam\""
   ]
  },
  {
   "cell_type": "code",
   "execution_count": null,
   "id": "bc4edd0b",
   "metadata": {},
   "outputs": [],
   "source": [
    "last_letters = name[1:]"
   ]
  },
  {
   "cell_type": "code",
   "execution_count": null,
   "id": "36c623c7",
   "metadata": {},
   "outputs": [],
   "source": [
    "last_letters"
   ]
  },
  {
   "cell_type": "code",
   "execution_count": null,
   "id": "70df5501",
   "metadata": {},
   "outputs": [],
   "source": [
    "my_string = ('a','b','c')"
   ]
  },
  {
   "cell_type": "code",
   "execution_count": null,
   "id": "40f1a934",
   "metadata": {},
   "outputs": [],
   "source": [
    "my_string"
   ]
  },
  {
   "cell_type": "code",
   "execution_count": null,
   "id": "a7b4988f",
   "metadata": {},
   "outputs": [],
   "source": [
    "mystring.upper()"
   ]
  },
  {
   "cell_type": "code",
   "execution_count": null,
   "id": "8d753b01",
   "metadata": {},
   "outputs": [],
   "source": [
    "mystring = ('ardi','dendik','siti')"
   ]
  },
  {
   "cell_type": "code",
   "execution_count": null,
   "id": "036b9464",
   "metadata": {},
   "outputs": [],
   "source": [
    "mystring"
   ]
  },
  {
   "cell_type": "code",
   "execution_count": null,
   "id": "b2d47209",
   "metadata": {},
   "outputs": [],
   "source": [
    "mystring.upper()"
   ]
  },
  {
   "cell_type": "code",
   "execution_count": null,
   "id": "227d427a",
   "metadata": {},
   "outputs": [],
   "source": []
  },
  {
   "cell_type": "code",
   "execution_count": null,
   "id": "5d113322",
   "metadata": {},
   "outputs": [],
   "source": [
    "2+1\n"
   ]
  },
  {
   "cell_type": "code",
   "execution_count": null,
   "id": "1fcd6742",
   "metadata": {},
   "outputs": [],
   "source": [
    "nbconvert"
   ]
  },
  {
   "cell_type": "code",
   "execution_count": null,
   "id": "58925ff7",
   "metadata": {},
   "outputs": [],
   "source": [
    "pip install nbconvert"
   ]
  },
  {
   "cell_type": "code",
   "execution_count": null,
   "id": "db4385c4",
   "metadata": {},
   "outputs": [],
   "source": [
    "pip install pandoc\n"
   ]
  },
  {
   "cell_type": "code",
   "execution_count": null,
   "id": "025bf6d6",
   "metadata": {},
   "outputs": [],
   "source": [
    "--to webpdf"
   ]
  },
  {
   "cell_type": "code",
   "execution_count": null,
   "id": "4b2498e4",
   "metadata": {},
   "outputs": [],
   "source": [
    "pip install -e ."
   ]
  },
  {
   "cell_type": "code",
   "execution_count": null,
   "id": "b00c2e39",
   "metadata": {},
   "outputs": [],
   "source": [
    "pip install nbconvert"
   ]
  },
  {
   "cell_type": "code",
   "execution_count": null,
   "id": "96a41ef2",
   "metadata": {},
   "outputs": [],
   "source": [
    "pip install miktek"
   ]
  },
  {
   "cell_type": "code",
   "execution_count": null,
   "id": "284a75dd",
   "metadata": {},
   "outputs": [],
   "source": [
    "2+1"
   ]
  },
  {
   "cell_type": "code",
   "execution_count": null,
   "id": "e78d752a",
   "metadata": {},
   "outputs": [],
   "source": [
    "2-1"
   ]
  },
  {
   "cell_type": "code",
   "execution_count": null,
   "id": "ddf5732f",
   "metadata": {},
   "outputs": [],
   "source": [
    "2+1"
   ]
  },
  {
   "cell_type": "code",
   "execution_count": null,
   "id": "4fd78e71",
   "metadata": {},
   "outputs": [],
   "source": [
    "2+2"
   ]
  },
  {
   "cell_type": "code",
   "execution_count": null,
   "id": "c6dc85a2",
   "metadata": {},
   "outputs": [],
   "source": [
    "print('hello world')"
   ]
  },
  {
   "cell_type": "code",
   "execution_count": null,
   "id": "2ceb5840",
   "metadata": {},
   "outputs": [],
   "source": [
    "2+2"
   ]
  },
  {
   "cell_type": "code",
   "execution_count": null,
   "id": "f234cbd6",
   "metadata": {},
   "outputs": [],
   "source": [
    "X = 0\n",
    "\n",
    "while x < 5:\n",
    "    print(f'The current value of x is {x}')\n",
    "    x = x + 1"
   ]
  },
  {
   "cell_type": "code",
   "execution_count": null,
   "id": "2652831d",
   "metadata": {},
   "outputs": [],
   "source": [
    "x = 0\n",
    "\n",
    "while x < 5:\n",
    "    print(f'The current value of x is {x}')\n",
    "    x = x + 1"
   ]
  },
  {
   "cell_type": "code",
   "execution_count": null,
   "id": "7718e182",
   "metadata": {},
   "outputs": [],
   "source": [
    "x = 0\n",
    "\n",
    "while x < 10:\n",
    "    print(f'The current value of x is {x}')\n",
    "    x = x + 1"
   ]
  },
  {
   "cell_type": "code",
   "execution_count": null,
   "id": "714dbd40",
   "metadata": {},
   "outputs": [],
   "source": [
    "12 != 12"
   ]
  },
  {
   "cell_type": "code",
   "execution_count": null,
   "id": "f3a4fc98",
   "metadata": {},
   "outputs": [],
   "source": [
    "2 <= 3 >= 1"
   ]
  },
  {
   "cell_type": "code",
   "execution_count": null,
   "id": "5ab25c73",
   "metadata": {},
   "outputs": [],
   "source": [
    "bunga = 'malam'\n",
    "\n",
    "if bunga == 'makan':\n",
    "    print('ini bukan bunga')\n",
    "elif bunga == 'mawar':\n",
    "    print('ini bungaku')\n",
    "else:\n",
    "    print(' bukan bunga siapa siapa')"
   ]
  },
  {
   "cell_type": "code",
   "execution_count": null,
   "id": "7262e319",
   "metadata": {},
   "outputs": [],
   "source": [
    "tup = (1,2,3)\n",
    "for gngekaa in tup:\n",
    "    print(item)"
   ]
  },
  {
   "cell_type": "code",
   "execution_count": null,
   "id": "1dd62a04",
   "metadata": {},
   "outputs": [],
   "source": [
    "tup = (1,2,3)\n",
    "\n",
    "for gngekaa in tup:\n",
    "    print(item)"
   ]
  },
  {
   "cell_type": "code",
   "execution_count": null,
   "id": "58d4213a",
   "metadata": {},
   "outputs": [],
   "source": [
    "tup = (1,2,3)\n",
    "\n",
    "for gngekaa in tup:\n",
    "    print(gngekaa)"
   ]
  },
  {
   "cell_type": "code",
   "execution_count": null,
   "id": "1bf00a9c",
   "metadata": {},
   "outputs": [],
   "source": [
    "index_count = 0\n",
    "my_strings = 'abcdef'\n",
    "\n",
    "\n",
    "for letter in 'my_strings':\n",
    "    print ('At index {} the letter is {}'.format(index_count,my_strings))\n",
    "    index_count += 1"
   ]
  },
  {
   "cell_type": "code",
   "execution_count": null,
   "id": "d0f4f119",
   "metadata": {},
   "outputs": [],
   "source": [
    "index_count = 0\n",
    "my_strings = 'abcdef'\n",
    "\n",
    "\n",
    "for letter in enumerate (my_strings.keys):\n",
    "    print(index_count)\n",
    "    index_count += 1"
   ]
  },
  {
   "cell_type": "code",
   "execution_count": null,
   "id": "a22c698f",
   "metadata": {},
   "outputs": [],
   "source": [
    "a in [1,2,3]"
   ]
  },
  {
   "cell_type": "code",
   "execution_count": null,
   "id": "872a022c",
   "metadata": {},
   "outputs": [],
   "source": [
    "'x' in ['x','y','z']"
   ]
  },
  {
   "cell_type": "code",
   "execution_count": null,
   "id": "399f9a95",
   "metadata": {},
   "outputs": [],
   "source": [
    "'a' in ['a','b','c']"
   ]
  },
  {
   "cell_type": "code",
   "execution_count": null,
   "id": "13e7d4e9",
   "metadata": {},
   "outputs": [],
   "source": [
    "result = input ('What is your name:  ')"
   ]
  },
  {
   "cell_type": "code",
   "execution_count": null,
   "id": "540a1d58",
   "metadata": {},
   "outputs": [],
   "source": [
    "print(input)"
   ]
  },
  {
   "cell_type": "code",
   "execution_count": null,
   "id": "e231f28d",
   "metadata": {},
   "outputs": [],
   "source": [
    "print(result)"
   ]
  },
  {
   "cell_type": "code",
   "execution_count": null,
   "id": "af704e5c",
   "metadata": {},
   "outputs": [],
   "source": [
    "result\n"
   ]
  },
  {
   "cell_type": "code",
   "execution_count": null,
   "id": "2788ad53",
   "metadata": {},
   "outputs": [],
   "source": [
    "a = 'ardian'"
   ]
  },
  {
   "cell_type": "code",
   "execution_count": null,
   "id": "ecd06b48",
   "metadata": {},
   "outputs": [],
   "source": [
    "print (a\n",
    "      )"
   ]
  },
  {
   "cell_type": "code",
   "execution_count": null,
   "id": "0c93d856",
   "metadata": {},
   "outputs": [],
   "source": [
    "mylist = [1,2,3]"
   ]
  },
  {
   "cell_type": "code",
   "execution_count": null,
   "id": "9da23fb9",
   "metadata": {},
   "outputs": [],
   "source": [
    "mylist.append(4)"
   ]
  },
  {
   "cell_type": "code",
   "execution_count": null,
   "id": "1e809f52",
   "metadata": {},
   "outputs": [],
   "source": [
    "mylist"
   ]
  },
  {
   "cell_type": "code",
   "execution_count": null,
   "id": "b7b17f68",
   "metadata": {},
   "outputs": [],
   "source": [
    "mylist.pop()"
   ]
  },
  {
   "cell_type": "code",
   "execution_count": null,
   "id": "2165ca5d",
   "metadata": {},
   "outputs": [],
   "source": [
    "def say_hello():\n",
    "    print(\"hello\")\n",
    "    print(\"are\")\n",
    "    print(\"you\")"
   ]
  },
  {
   "cell_type": "code",
   "execution_count": null,
   "id": "81f38a82",
   "metadata": {},
   "outputs": [],
   "source": [
    "say_hello()"
   ]
  },
  {
   "cell_type": "code",
   "execution_count": null,
   "id": "55a5ab5b",
   "metadata": {},
   "outputs": [],
   "source": [
    "2 % 2"
   ]
  },
  {
   "cell_type": "code",
   "execution_count": null,
   "id": "fe1aa843",
   "metadata": {},
   "outputs": [],
   "source": [
    "3%2"
   ]
  },
  {
   "cell_type": "code",
   "execution_count": null,
   "id": "d93b668d",
   "metadata": {},
   "outputs": [],
   "source": [
    "41%40"
   ]
  },
  {
   "cell_type": "code",
   "execution_count": null,
   "id": "9f8036d7",
   "metadata": {},
   "outputs": [],
   "source": [
    "20%2"
   ]
  },
  {
   "cell_type": "code",
   "execution_count": null,
   "id": "4df16e8e",
   "metadata": {},
   "outputs": [],
   "source": [
    "20 % 2 == 0\n"
   ]
  },
  {
   "cell_type": "code",
   "execution_count": null,
   "id": "b74dabc3",
   "metadata": {},
   "outputs": [],
   "source": [
    "ard = 20 % 2 == 0"
   ]
  },
  {
   "cell_type": "code",
   "execution_count": null,
   "id": "4b5874d6",
   "metadata": {},
   "outputs": [],
   "source": [
    "type(ard\n",
    "    )"
   ]
  },
  {
   "cell_type": "code",
   "execution_count": null,
   "id": "fdf3ec93",
   "metadata": {},
   "outputs": [],
   "source": [
    "21 % 2 == 0"
   ]
  },
  {
   "cell_type": "code",
   "execution_count": null,
   "id": "39a8e4e6",
   "metadata": {},
   "outputs": [],
   "source": [
    "def even_check(number):\n",
    "    result = number  % 2 == 0\n",
    "    return result"
   ]
  },
  {
   "cell_type": "code",
   "execution_count": null,
   "id": "a94343b7",
   "metadata": {},
   "outputs": [],
   "source": [
    "even_check(20)\n"
   ]
  },
  {
   "cell_type": "code",
   "execution_count": null,
   "id": "95b938f8",
   "metadata": {},
   "outputs": [],
   "source": [
    "even_check(21)"
   ]
  },
  {
   "cell_type": "code",
   "execution_count": null,
   "id": "e4c6b88f",
   "metadata": {},
   "outputs": [],
   "source": [
    " # RETURN TRUE IF ANY NUMBER IS EVEN INSIDE A LIST"
   ]
  },
  {
   "cell_type": "code",
   "execution_count": null,
   "id": "67d1f2c0",
   "metadata": {},
   "outputs": [],
   "source": [
    "def check_even_list(num_list):\n",
    "    # return all the even numbers in a list\n",
    "    \n",
    "    # placeholder variables\n",
    "    even_numbers = []\n",
    "    \n",
    "    \n",
    "    for number in num_list:\n",
    "        if number % 2 == 0:\n",
    "            even_numbers.append(number)\n",
    "            \n",
    "        else:\n",
    "            pass\n",
    "        return even_numbers\n",
    "        \n",
    "           \n",
    "    "
   ]
  },
  {
   "cell_type": "code",
   "execution_count": null,
   "id": "c404d37f",
   "metadata": {},
   "outputs": [],
   "source": [
    "check_even_list([4,3,5])"
   ]
  },
  {
   "cell_type": "code",
   "execution_count": null,
   "id": "278eaabe",
   "metadata": {},
   "outputs": [],
   "source": [
    "check_even_list([2,4,5])"
   ]
  },
  {
   "cell_type": "code",
   "execution_count": null,
   "id": "6846a93e",
   "metadata": {},
   "outputs": [],
   "source": [
    "check_even_list([2,1,1,1])"
   ]
  },
  {
   "cell_type": "code",
   "execution_count": null,
   "id": "4279cbe5",
   "metadata": {},
   "outputs": [],
   "source": [
    "check_even_list([1,1,1,2])"
   ]
  },
  {
   "cell_type": "code",
   "execution_count": null,
   "id": "174122ce",
   "metadata": {},
   "outputs": [],
   "source": [
    "check_even_list([1,3,2,10])"
   ]
  },
  {
   "cell_type": "code",
   "execution_count": null,
   "id": "2e65adfd",
   "metadata": {},
   "outputs": [],
   "source": [
    "x = 'Hello World'"
   ]
  },
  {
   "cell_type": "code",
   "execution_count": null,
   "id": "a57fcc60",
   "metadata": {},
   "outputs": [],
   "source": [
    "x.upper()"
   ]
  },
  {
   "cell_type": "code",
   "execution_count": null,
   "id": "73022aac",
   "metadata": {},
   "outputs": [],
   "source": [
    "x\n"
   ]
  },
  {
   "cell_type": "code",
   "execution_count": null,
   "id": "0665aa07",
   "metadata": {},
   "outputs": [],
   "source": [
    "x=x.upper()"
   ]
  },
  {
   "cell_type": "code",
   "execution_count": null,
   "id": "72acebb7",
   "metadata": {},
   "outputs": [],
   "source": [
    "x\n"
   ]
  },
  {
   "cell_type": "code",
   "execution_count": null,
   "id": "12a05080",
   "metadata": {},
   "outputs": [],
   "source": [
    "x.split()\n"
   ]
  },
  {
   "cell_type": "code",
   "execution_count": null,
   "id": "b32b09f2",
   "metadata": {},
   "outputs": [],
   "source": [
    "angka = [1,4,5,3,4,3]\n",
    "angka.sort ()"
   ]
  },
  {
   "cell_type": "code",
   "execution_count": null,
   "id": "37040225",
   "metadata": {},
   "outputs": [],
   "source": [
    "angka"
   ]
  },
  {
   "cell_type": "code",
   "execution_count": null,
   "id": "2af92024",
   "metadata": {},
   "outputs": [],
   "source": [
    "angka.reverse ()"
   ]
  },
  {
   "cell_type": "code",
   "execution_count": null,
   "id": "36584850",
   "metadata": {},
   "outputs": [],
   "source": [
    "angka"
   ]
  },
  {
   "cell_type": "code",
   "execution_count": null,
   "id": "58545183",
   "metadata": {},
   "outputs": [],
   "source": [
    "d = {'key1' : ['a','b','c']}"
   ]
  },
  {
   "cell_type": "code",
   "execution_count": null,
   "id": "0f709348",
   "metadata": {},
   "outputs": [],
   "source": [
    "d['key1']['b']"
   ]
  },
  {
   "cell_type": "code",
   "execution_count": null,
   "id": "ba0a9441",
   "metadata": {},
   "outputs": [],
   "source": [
    "d"
   ]
  },
  {
   "cell_type": "code",
   "execution_count": null,
   "id": "19bb618d",
   "metadata": {},
   "outputs": [],
   "source": [
    "d['key1']"
   ]
  },
  {
   "cell_type": "code",
   "execution_count": null,
   "id": "2697ccd5",
   "metadata": {},
   "outputs": [],
   "source": [
    "d['b']"
   ]
  },
  {
   "cell_type": "code",
   "execution_count": null,
   "id": "3d00493b",
   "metadata": {},
   "outputs": [],
   "source": [
    "d['key1']['b']"
   ]
  },
  {
   "cell_type": "code",
   "execution_count": null,
   "id": "7f5597cf",
   "metadata": {},
   "outputs": [],
   "source": [
    "mylist = d['key1']"
   ]
  },
  {
   "cell_type": "code",
   "execution_count": null,
   "id": "7dc98eea",
   "metadata": {},
   "outputs": [],
   "source": [
    "mylist\n"
   ]
  },
  {
   "cell_type": "code",
   "execution_count": null,
   "id": "976f5d36",
   "metadata": {},
   "outputs": [],
   "source": [
    "mylist[2]"
   ]
  },
  {
   "cell_type": "code",
   "execution_count": null,
   "id": "b224b5f1",
   "metadata": {},
   "outputs": [],
   "source": [
    "mylist[2].upper()"
   ]
  },
  {
   "cell_type": "code",
   "execution_count": null,
   "id": "1b12641a",
   "metadata": {},
   "outputs": [],
   "source": [
    "d"
   ]
  },
  {
   "cell_type": "code",
   "execution_count": null,
   "id": "180e86d7",
   "metadata": {},
   "outputs": [],
   "source": [
    "mylist=d['key1'][2]"
   ]
  },
  {
   "cell_type": "code",
   "execution_count": null,
   "id": "949885f4",
   "metadata": {},
   "outputs": [],
   "source": [
    "mylist"
   ]
  },
  {
   "cell_type": "code",
   "execution_count": null,
   "id": "9593ee32",
   "metadata": {},
   "outputs": [],
   "source": [
    "mylist.upper()"
   ]
  },
  {
   "cell_type": "code",
   "execution_count": null,
   "id": "d7609c97",
   "metadata": {},
   "outputs": [],
   "source": [
    "d = {'k1' : 100, 'k2' : 200, 'k3': 300}"
   ]
  },
  {
   "cell_type": "code",
   "execution_count": null,
   "id": "a28b5c4e",
   "metadata": {},
   "outputs": [],
   "source": [
    "d.keys()"
   ]
  },
  {
   "cell_type": "code",
   "execution_count": null,
   "id": "5af2b88f",
   "metadata": {},
   "outputs": [],
   "source": [
    "d.values()"
   ]
  },
  {
   "cell_type": "code",
   "execution_count": null,
   "id": "a0de6ba5",
   "metadata": {},
   "outputs": [],
   "source": [
    "d.items()"
   ]
  },
  {
   "cell_type": "code",
   "execution_count": null,
   "id": "3b9cb611",
   "metadata": {},
   "outputs": [],
   "source": [
    "t = (1,2,3)"
   ]
  },
  {
   "cell_type": "code",
   "execution_count": null,
   "id": "30487796",
   "metadata": {},
   "outputs": [],
   "source": [
    "mylist = [1,2,3]"
   ]
  },
  {
   "cell_type": "code",
   "execution_count": null,
   "id": "2a656ded",
   "metadata": {},
   "outputs": [],
   "source": [
    "type(t)"
   ]
  },
  {
   "cell_type": "code",
   "execution_count": null,
   "id": "768483e0",
   "metadata": {},
   "outputs": [],
   "source": [
    "type(mylist)"
   ]
  },
  {
   "cell_type": "code",
   "execution_count": null,
   "id": "1ee34c52",
   "metadata": {},
   "outputs": [],
   "source": [
    "mylist = set (1,2,3,4,4,4,5)"
   ]
  },
  {
   "cell_type": "code",
   "execution_count": null,
   "id": "18e5f8fe",
   "metadata": {},
   "outputs": [],
   "source": [
    "mylist = set ()"
   ]
  },
  {
   "cell_type": "code",
   "execution_count": null,
   "id": "fb787934",
   "metadata": {},
   "outputs": [],
   "source": [
    "mylist.add(1)"
   ]
  },
  {
   "cell_type": "code",
   "execution_count": null,
   "id": "5dbce747",
   "metadata": {},
   "outputs": [],
   "source": [
    "mylist"
   ]
  },
  {
   "cell_type": "code",
   "execution_count": null,
   "id": "367df9e3",
   "metadata": {},
   "outputs": [],
   "source": [
    "my_list = [1,2,3,4,5,6,7,8,9,10]"
   ]
  },
  {
   "cell_type": "code",
   "execution_count": 1,
   "id": "bd8cc0b6",
   "metadata": {},
   "outputs": [
    {
     "ename": "NameError",
     "evalue": "name 'my_list' is not defined",
     "output_type": "error",
     "traceback": [
      "\u001b[1;31m---------------------------------------------------------------------------\u001b[0m",
      "\u001b[1;31mNameError\u001b[0m                                 Traceback (most recent call last)",
      "Input \u001b[1;32mIn [1]\u001b[0m, in \u001b[0;36m<cell line: 1>\u001b[1;34m()\u001b[0m\n\u001b[1;32m----> 1\u001b[0m \u001b[38;5;28;01mfor\u001b[39;00m gh \u001b[38;5;129;01min\u001b[39;00m \u001b[43mmy_list\u001b[49m:\n\u001b[0;32m      2\u001b[0m     \u001b[38;5;28mprint\u001b[39m(gh)\n",
      "\u001b[1;31mNameError\u001b[0m: name 'my_list' is not defined"
     ]
    }
   ],
   "source": [
    "for gh in my_list:\n",
    "    print(gh)"
   ]
  },
  {
   "cell_type": "code",
   "execution_count": 2,
   "id": "f86ffebf",
   "metadata": {},
   "outputs": [
    {
     "ename": "NameError",
     "evalue": "name 'mylist' is not defined",
     "output_type": "error",
     "traceback": [
      "\u001b[1;31m---------------------------------------------------------------------------\u001b[0m",
      "\u001b[1;31mNameError\u001b[0m                                 Traceback (most recent call last)",
      "Input \u001b[1;32mIn [2]\u001b[0m, in \u001b[0;36m<cell line: 1>\u001b[1;34m()\u001b[0m\n\u001b[1;32m----> 1\u001b[0m \u001b[43mmylist\u001b[49m\n",
      "\u001b[1;31mNameError\u001b[0m: name 'mylist' is not defined"
     ]
    }
   ],
   "source": [
    "mylist"
   ]
  },
  {
   "cell_type": "code",
   "execution_count": 3,
   "id": "c9dec673",
   "metadata": {},
   "outputs": [],
   "source": [
    "my_list = [1,2,3,4,5,6]"
   ]
  },
  {
   "cell_type": "code",
   "execution_count": 6,
   "id": "e0fb246e",
   "metadata": {},
   "outputs": [
    {
     "name": "stdout",
     "output_type": "stream",
     "text": [
      "1\n",
      "2\n",
      "3\n",
      "4\n",
      "5\n",
      "6\n"
     ]
    }
   ],
   "source": [
    "for jk in my_list:\n",
    "    print(jk)"
   ]
  },
  {
   "cell_type": "code",
   "execution_count": 9,
   "id": "1b7a1c9f",
   "metadata": {},
   "outputs": [
    {
     "name": "stdout",
     "output_type": "stream",
     "text": [
      "Odd Number: 1\n",
      "2\n",
      "Odd Number: 3\n",
      "4\n",
      "Odd Number: 5\n",
      "6\n"
     ]
    }
   ],
   "source": [
    "for num in my_list:\n",
    "    if num % 2 == 0:\n",
    "        print(num)\n",
    "    else:\n",
    "        print(f'Odd Number: {num}')"
   ]
  },
  {
   "cell_type": "code",
   "execution_count": null,
   "id": "1db9d236",
   "metadata": {},
   "outputs": [],
   "source": []
  }
 ],
 "metadata": {
  "kernelspec": {
   "display_name": "Python 3 (ipykernel)",
   "language": "python",
   "name": "python3"
  },
  "language_info": {
   "codemirror_mode": {
    "name": "ipython",
    "version": 3
   },
   "file_extension": ".py",
   "mimetype": "text/x-python",
   "name": "python",
   "nbconvert_exporter": "python",
   "pygments_lexer": "ipython3",
   "version": "3.9.12"
  }
 },
 "nbformat": 4,
 "nbformat_minor": 5
}
